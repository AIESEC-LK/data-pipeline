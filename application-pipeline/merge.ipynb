{
 "cells": [
  {
   "cell_type": "code",
   "execution_count": 1,
   "metadata": {},
   "outputs": [],
   "source": [
    "import pandas as pd\n"
   ]
  },
  {
   "cell_type": "code",
   "execution_count": 4,
   "metadata": {},
   "outputs": [],
   "source": [
    "df1 = pd.read_csv('applications1.csv')\n",
    "df2 = pd.read_csv('applications2.csv')\n",
    "df3 = pd.read_csv('applications3.csv')\n",
    "df4 = pd.read_csv('applications4.csv')"
   ]
  },
  {
   "cell_type": "code",
   "execution_count": 5,
   "metadata": {},
   "outputs": [],
   "source": [
    "pd.concat([df1, df2, df3, df4]).to_csv('applications.csv', index=False)"
   ]
  },
  {
   "cell_type": "code",
   "execution_count": null,
   "metadata": {},
   "outputs": [],
   "source": [
    "dfe1 = pd.read_csv('applications_extended1.csv')\n",
    "dfe2 = pd.read_csv('applications_extended2.csv')\n",
    "dfe3 = pd.read_csv('applications_extended3.csv')\n",
    "dfe4 = pd.read_csv('applications_extended4.csv')\n",
    "\n",
    "pd.concat([dfe1, dfe2, dfe3, dfe4]).to_csv('applications_extended.csv', index=False)"
   ]
  }
 ],
 "metadata": {
  "kernelspec": {
   "display_name": "base",
   "language": "python",
   "name": "python3"
  },
  "language_info": {
   "codemirror_mode": {
    "name": "ipython",
    "version": 3
   },
   "file_extension": ".py",
   "mimetype": "text/x-python",
   "name": "python",
   "nbconvert_exporter": "python",
   "pygments_lexer": "ipython3",
   "version": "3.11.4"
  }
 },
 "nbformat": 4,
 "nbformat_minor": 2
}
